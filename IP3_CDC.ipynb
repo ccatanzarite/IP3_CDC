{
 "cells": [
  {
   "cell_type": "markdown",
   "metadata": {},
   "source": [
    "# Individual Project 3\n",
    "---\n",
    "**Author**: Clayton Catanzarite  \n",
    "**Version**: 1.0  \n",
    "**Semester**: Spring 2021  \n",
    "**Summary**:  \n",
    "\n",
    "This is the third project for the DS-160-01 class. In this projectuse some of the features/functions provided by the Python Pandas library to clean up a data set and then visualize it with Pandas/Matplotlib/Seaborn."
   ]
  },
  {
   "cell_type": "markdown",
   "metadata": {},
   "source": [
    "# Import Packages"
   ]
  },
  {
   "cell_type": "code",
   "execution_count": 716,
   "metadata": {},
   "outputs": [],
   "source": [
    "import pandas as pd\n",
    "import numpy as np\n",
    "import matplotlib.pyplot as plt\n",
    "import seaborn as sns\n",
    "%matplotlib inline\n",
    "\n",
    "import statsmodels.api as sm"
   ]
  },
  {
   "cell_type": "markdown",
   "metadata": {},
   "source": [
    "# Part 1"
   ]
  },
  {
   "cell_type": "markdown",
   "metadata": {},
   "source": [
    "### Create a function to turn the .csv files into a dataframe\n",
    "The function will do the following:\n",
    "* Take a file name and convert it to a dataframe\n",
    "* Convert the Date column to a date\n",
    "* Add a column called Company that contains the company name"
   ]
  },
  {
   "cell_type": "code",
   "execution_count": 717,
   "metadata": {
    "scrolled": true
   },
   "outputs": [],
   "source": [
    "def csv_to_dataframe(filename):\n",
    "    nameList = filename.split(\".\")\n",
    "    dataframe_name = nameList[0]\n",
    "    dataframe_name = pd.read_csv(filename)\n",
    "    dataframe_name['Date'] = pd.to_datetime(dataframe_name['Date'])\n",
    "    dataframe_name.insert(0, \"Company\", nameList[0])\n",
    "    return dataframe_name"
   ]
  },
  {
   "cell_type": "markdown",
   "metadata": {},
   "source": [
    "### Execute the function 4 times for each .csv"
   ]
  },
  {
   "cell_type": "code",
   "execution_count": 718,
   "metadata": {},
   "outputs": [],
   "source": [
    "df1 = csv_to_dataframe('Amprion.csv')\n",
    "df2 = csv_to_dataframe('50Hertz.csv')\n",
    "df3 = csv_to_dataframe('TenneTTSO.csv')\n",
    "df4 = csv_to_dataframe('TransnetBW.csv')"
   ]
  },
  {
   "cell_type": "markdown",
   "metadata": {},
   "source": [
    "### Stack the dataframes on top of each other"
   ]
  },
  {
   "cell_type": "code",
   "execution_count": 719,
   "metadata": {},
   "outputs": [],
   "source": [
    "df = pd.concat([df1, df2, df3, df4], axis=0)"
   ]
  },
  {
   "cell_type": "code",
   "execution_count": 720,
   "metadata": {},
   "outputs": [
    {
     "name": "stdout",
     "output_type": "stream",
     "text": [
      "98\n"
     ]
    }
   ],
   "source": [
    "print(len(df.columns))"
   ]
  },
  {
   "cell_type": "markdown",
   "metadata": {},
   "source": [
    "### Create a new dataframe that is grouped by Company and the year"
   ]
  },
  {
   "cell_type": "code",
   "execution_count": 721,
   "metadata": {},
   "outputs": [],
   "source": [
    "columnlist = df.columns.tolist()\n",
    "df['year'] = pd.DatetimeIndex(df['Date']).year\n",
    "Aggregated_df = df[columnlist].groupby([df[\"Company\"],df[\"year\"]]).mean() "
   ]
  },
  {
   "cell_type": "code",
   "execution_count": 722,
   "metadata": {},
   "outputs": [
    {
     "data": {
      "text/html": [
       "<div>\n",
       "<style scoped>\n",
       "    .dataframe tbody tr th:only-of-type {\n",
       "        vertical-align: middle;\n",
       "    }\n",
       "\n",
       "    .dataframe tbody tr th {\n",
       "        vertical-align: top;\n",
       "    }\n",
       "\n",
       "    .dataframe thead th {\n",
       "        text-align: right;\n",
       "    }\n",
       "</style>\n",
       "<table border=\"1\" class=\"dataframe\">\n",
       "  <thead>\n",
       "    <tr style=\"text-align: right;\">\n",
       "      <th></th>\n",
       "      <th></th>\n",
       "      <th>00:00:00</th>\n",
       "      <th>00:15:00</th>\n",
       "      <th>00:30:00</th>\n",
       "      <th>00:45:00</th>\n",
       "      <th>01:00:00</th>\n",
       "      <th>01:15:00</th>\n",
       "      <th>01:30:00</th>\n",
       "      <th>01:45:00</th>\n",
       "      <th>02:00:00</th>\n",
       "      <th>02:15:00</th>\n",
       "      <th>...</th>\n",
       "      <th>21:30:00</th>\n",
       "      <th>21:45:00</th>\n",
       "      <th>22:00:00</th>\n",
       "      <th>22:15:00</th>\n",
       "      <th>22:30:00</th>\n",
       "      <th>22:45:00</th>\n",
       "      <th>23:00:00</th>\n",
       "      <th>23:15:00</th>\n",
       "      <th>23:30:00</th>\n",
       "      <th>23:45:00</th>\n",
       "    </tr>\n",
       "    <tr>\n",
       "      <th>Company</th>\n",
       "      <th>year</th>\n",
       "      <th></th>\n",
       "      <th></th>\n",
       "      <th></th>\n",
       "      <th></th>\n",
       "      <th></th>\n",
       "      <th></th>\n",
       "      <th></th>\n",
       "      <th></th>\n",
       "      <th></th>\n",
       "      <th></th>\n",
       "      <th></th>\n",
       "      <th></th>\n",
       "      <th></th>\n",
       "      <th></th>\n",
       "      <th></th>\n",
       "      <th></th>\n",
       "      <th></th>\n",
       "      <th></th>\n",
       "      <th></th>\n",
       "      <th></th>\n",
       "      <th></th>\n",
       "    </tr>\n",
       "  </thead>\n",
       "  <tbody>\n",
       "    <tr>\n",
       "      <th rowspan=\"2\" valign=\"top\">50Hertz</th>\n",
       "      <th>2019</th>\n",
       "      <td>143.320611</td>\n",
       "      <td>142.351145</td>\n",
       "      <td>142.366412</td>\n",
       "      <td>142.000000</td>\n",
       "      <td>141.900763</td>\n",
       "      <td>141.381679</td>\n",
       "      <td>140.648855</td>\n",
       "      <td>140.923664</td>\n",
       "      <td>140.732824</td>\n",
       "      <td>140.458015</td>\n",
       "      <td>...</td>\n",
       "      <td>144.328244</td>\n",
       "      <td>144.839695</td>\n",
       "      <td>144.709924</td>\n",
       "      <td>144.641221</td>\n",
       "      <td>144.442748</td>\n",
       "      <td>144.274809</td>\n",
       "      <td>144.954198</td>\n",
       "      <td>144.206107</td>\n",
       "      <td>144.076336</td>\n",
       "      <td>144.259542</td>\n",
       "    </tr>\n",
       "    <tr>\n",
       "      <th>2020</th>\n",
       "      <td>141.894737</td>\n",
       "      <td>141.124060</td>\n",
       "      <td>140.936090</td>\n",
       "      <td>140.838346</td>\n",
       "      <td>140.281955</td>\n",
       "      <td>140.037594</td>\n",
       "      <td>139.462406</td>\n",
       "      <td>139.112782</td>\n",
       "      <td>138.646617</td>\n",
       "      <td>138.560150</td>\n",
       "      <td>...</td>\n",
       "      <td>147.590226</td>\n",
       "      <td>147.214286</td>\n",
       "      <td>147.075188</td>\n",
       "      <td>146.661654</td>\n",
       "      <td>145.609023</td>\n",
       "      <td>144.624060</td>\n",
       "      <td>143.864662</td>\n",
       "      <td>143.680451</td>\n",
       "      <td>143.112782</td>\n",
       "      <td>142.338346</td>\n",
       "    </tr>\n",
       "    <tr>\n",
       "      <th rowspan=\"2\" valign=\"top\">Amprion</th>\n",
       "      <th>2019</th>\n",
       "      <td>106.992366</td>\n",
       "      <td>106.679389</td>\n",
       "      <td>106.091603</td>\n",
       "      <td>105.549618</td>\n",
       "      <td>108.083969</td>\n",
       "      <td>108.282443</td>\n",
       "      <td>108.129771</td>\n",
       "      <td>107.465649</td>\n",
       "      <td>107.282443</td>\n",
       "      <td>106.671756</td>\n",
       "      <td>...</td>\n",
       "      <td>115.412214</td>\n",
       "      <td>114.572519</td>\n",
       "      <td>114.076336</td>\n",
       "      <td>112.961832</td>\n",
       "      <td>112.595420</td>\n",
       "      <td>112.427481</td>\n",
       "      <td>111.343511</td>\n",
       "      <td>110.946565</td>\n",
       "      <td>110.328244</td>\n",
       "      <td>107.473282</td>\n",
       "    </tr>\n",
       "    <tr>\n",
       "      <th>2020</th>\n",
       "      <td>93.751880</td>\n",
       "      <td>94.312030</td>\n",
       "      <td>94.424812</td>\n",
       "      <td>94.033835</td>\n",
       "      <td>93.657895</td>\n",
       "      <td>93.563910</td>\n",
       "      <td>93.146617</td>\n",
       "      <td>92.812030</td>\n",
       "      <td>92.571429</td>\n",
       "      <td>92.127820</td>\n",
       "      <td>...</td>\n",
       "      <td>96.515038</td>\n",
       "      <td>96.338346</td>\n",
       "      <td>96.368421</td>\n",
       "      <td>96.379699</td>\n",
       "      <td>96.176692</td>\n",
       "      <td>94.898496</td>\n",
       "      <td>95.018797</td>\n",
       "      <td>94.973684</td>\n",
       "      <td>94.691729</td>\n",
       "      <td>94.383459</td>\n",
       "    </tr>\n",
       "    <tr>\n",
       "      <th rowspan=\"2\" valign=\"top\">TenneTTSO</th>\n",
       "      <th>2019</th>\n",
       "      <td>150.866183</td>\n",
       "      <td>150.450992</td>\n",
       "      <td>150.152901</td>\n",
       "      <td>149.611679</td>\n",
       "      <td>148.946412</td>\n",
       "      <td>148.629847</td>\n",
       "      <td>148.808473</td>\n",
       "      <td>148.620382</td>\n",
       "      <td>148.236031</td>\n",
       "      <td>147.931298</td>\n",
       "      <td>...</td>\n",
       "      <td>152.761908</td>\n",
       "      <td>152.608015</td>\n",
       "      <td>152.675802</td>\n",
       "      <td>152.765115</td>\n",
       "      <td>152.631374</td>\n",
       "      <td>152.897176</td>\n",
       "      <td>152.363740</td>\n",
       "      <td>152.357405</td>\n",
       "      <td>152.236565</td>\n",
       "      <td>151.705496</td>\n",
       "    </tr>\n",
       "    <tr>\n",
       "      <th>2020</th>\n",
       "      <td>141.603835</td>\n",
       "      <td>141.457105</td>\n",
       "      <td>141.203120</td>\n",
       "      <td>141.206278</td>\n",
       "      <td>140.931617</td>\n",
       "      <td>140.642105</td>\n",
       "      <td>140.583008</td>\n",
       "      <td>140.537632</td>\n",
       "      <td>140.579962</td>\n",
       "      <td>140.784511</td>\n",
       "      <td>...</td>\n",
       "      <td>145.523571</td>\n",
       "      <td>144.793947</td>\n",
       "      <td>144.206466</td>\n",
       "      <td>143.894850</td>\n",
       "      <td>143.764248</td>\n",
       "      <td>143.694135</td>\n",
       "      <td>143.535902</td>\n",
       "      <td>142.563008</td>\n",
       "      <td>142.350075</td>\n",
       "      <td>141.976128</td>\n",
       "    </tr>\n",
       "    <tr>\n",
       "      <th rowspan=\"2\" valign=\"top\">TransnetBW</th>\n",
       "      <th>2019</th>\n",
       "      <td>39.293740</td>\n",
       "      <td>39.462290</td>\n",
       "      <td>39.165191</td>\n",
       "      <td>39.138321</td>\n",
       "      <td>39.369084</td>\n",
       "      <td>39.028779</td>\n",
       "      <td>38.834580</td>\n",
       "      <td>38.684504</td>\n",
       "      <td>38.211145</td>\n",
       "      <td>38.427099</td>\n",
       "      <td>...</td>\n",
       "      <td>38.739847</td>\n",
       "      <td>38.871527</td>\n",
       "      <td>38.754275</td>\n",
       "      <td>38.998473</td>\n",
       "      <td>39.014733</td>\n",
       "      <td>39.522290</td>\n",
       "      <td>39.187099</td>\n",
       "      <td>39.421832</td>\n",
       "      <td>39.499924</td>\n",
       "      <td>39.299924</td>\n",
       "    </tr>\n",
       "    <tr>\n",
       "      <th>2020</th>\n",
       "      <td>30.899023</td>\n",
       "      <td>30.604737</td>\n",
       "      <td>30.354023</td>\n",
       "      <td>29.871128</td>\n",
       "      <td>29.731955</td>\n",
       "      <td>29.642481</td>\n",
       "      <td>29.409511</td>\n",
       "      <td>29.432857</td>\n",
       "      <td>29.453045</td>\n",
       "      <td>29.410301</td>\n",
       "      <td>...</td>\n",
       "      <td>31.489662</td>\n",
       "      <td>31.425075</td>\n",
       "      <td>31.569248</td>\n",
       "      <td>31.510526</td>\n",
       "      <td>31.356391</td>\n",
       "      <td>31.330113</td>\n",
       "      <td>31.271917</td>\n",
       "      <td>30.962932</td>\n",
       "      <td>30.978346</td>\n",
       "      <td>30.907481</td>\n",
       "    </tr>\n",
       "  </tbody>\n",
       "</table>\n",
       "<p>8 rows × 96 columns</p>\n",
       "</div>"
      ],
      "text/plain": [
       "                   00:00:00    00:15:00    00:30:00    00:45:00    01:00:00  \\\n",
       "Company    year                                                               \n",
       "50Hertz    2019  143.320611  142.351145  142.366412  142.000000  141.900763   \n",
       "           2020  141.894737  141.124060  140.936090  140.838346  140.281955   \n",
       "Amprion    2019  106.992366  106.679389  106.091603  105.549618  108.083969   \n",
       "           2020   93.751880   94.312030   94.424812   94.033835   93.657895   \n",
       "TenneTTSO  2019  150.866183  150.450992  150.152901  149.611679  148.946412   \n",
       "           2020  141.603835  141.457105  141.203120  141.206278  140.931617   \n",
       "TransnetBW 2019   39.293740   39.462290   39.165191   39.138321   39.369084   \n",
       "           2020   30.899023   30.604737   30.354023   29.871128   29.731955   \n",
       "\n",
       "                   01:15:00    01:30:00    01:45:00    02:00:00    02:15:00  \\\n",
       "Company    year                                                               \n",
       "50Hertz    2019  141.381679  140.648855  140.923664  140.732824  140.458015   \n",
       "           2020  140.037594  139.462406  139.112782  138.646617  138.560150   \n",
       "Amprion    2019  108.282443  108.129771  107.465649  107.282443  106.671756   \n",
       "           2020   93.563910   93.146617   92.812030   92.571429   92.127820   \n",
       "TenneTTSO  2019  148.629847  148.808473  148.620382  148.236031  147.931298   \n",
       "           2020  140.642105  140.583008  140.537632  140.579962  140.784511   \n",
       "TransnetBW 2019   39.028779   38.834580   38.684504   38.211145   38.427099   \n",
       "           2020   29.642481   29.409511   29.432857   29.453045   29.410301   \n",
       "\n",
       "                 ...    21:30:00    21:45:00    22:00:00    22:15:00  \\\n",
       "Company    year  ...                                                   \n",
       "50Hertz    2019  ...  144.328244  144.839695  144.709924  144.641221   \n",
       "           2020  ...  147.590226  147.214286  147.075188  146.661654   \n",
       "Amprion    2019  ...  115.412214  114.572519  114.076336  112.961832   \n",
       "           2020  ...   96.515038   96.338346   96.368421   96.379699   \n",
       "TenneTTSO  2019  ...  152.761908  152.608015  152.675802  152.765115   \n",
       "           2020  ...  145.523571  144.793947  144.206466  143.894850   \n",
       "TransnetBW 2019  ...   38.739847   38.871527   38.754275   38.998473   \n",
       "           2020  ...   31.489662   31.425075   31.569248   31.510526   \n",
       "\n",
       "                   22:30:00    22:45:00    23:00:00    23:15:00    23:30:00  \\\n",
       "Company    year                                                               \n",
       "50Hertz    2019  144.442748  144.274809  144.954198  144.206107  144.076336   \n",
       "           2020  145.609023  144.624060  143.864662  143.680451  143.112782   \n",
       "Amprion    2019  112.595420  112.427481  111.343511  110.946565  110.328244   \n",
       "           2020   96.176692   94.898496   95.018797   94.973684   94.691729   \n",
       "TenneTTSO  2019  152.631374  152.897176  152.363740  152.357405  152.236565   \n",
       "           2020  143.764248  143.694135  143.535902  142.563008  142.350075   \n",
       "TransnetBW 2019   39.014733   39.522290   39.187099   39.421832   39.499924   \n",
       "           2020   31.356391   31.330113   31.271917   30.962932   30.978346   \n",
       "\n",
       "                   23:45:00  \n",
       "Company    year              \n",
       "50Hertz    2019  144.259542  \n",
       "           2020  142.338346  \n",
       "Amprion    2019  107.473282  \n",
       "           2020   94.383459  \n",
       "TenneTTSO  2019  151.705496  \n",
       "           2020  141.976128  \n",
       "TransnetBW 2019   39.299924  \n",
       "           2020   30.907481  \n",
       "\n",
       "[8 rows x 96 columns]"
      ]
     },
     "execution_count": 722,
     "metadata": {},
     "output_type": "execute_result"
    }
   ],
   "source": [
    "Aggregated_df"
   ]
  },
  {
   "cell_type": "markdown",
   "metadata": {},
   "source": [
    "### Make a horizontal bar chart that shows the average amount of power generated by each company, in each year for midnight and another bar graph that shows the same for noon"
   ]
  },
  {
   "cell_type": "code",
   "execution_count": 723,
   "metadata": {},
   "outputs": [],
   "source": [
    "midnight = Aggregated_df['00:00:00']\n",
    "noon= Aggregated_df['12:00:00']"
   ]
  },
  {
   "cell_type": "code",
   "execution_count": 724,
   "metadata": {},
   "outputs": [
    {
     "data": {
      "text/plain": [
       "Company     year\n",
       "50Hertz     2019    143.320611\n",
       "            2020    141.894737\n",
       "Amprion     2019    106.992366\n",
       "            2020     93.751880\n",
       "TenneTTSO   2019    150.866183\n",
       "            2020    141.603835\n",
       "TransnetBW  2019     39.293740\n",
       "            2020     30.899023\n",
       "Name: 00:00:00, dtype: float64"
      ]
     },
     "execution_count": 724,
     "metadata": {},
     "output_type": "execute_result"
    }
   ],
   "source": [
    "midnight"
   ]
  },
  {
   "cell_type": "code",
   "execution_count": 725,
   "metadata": {},
   "outputs": [
    {
     "data": {
      "text/plain": [
       "Company     year\n",
       "50Hertz     2019    142.473282\n",
       "            2020    163.398496\n",
       "Amprion     2019    100.572519\n",
       "            2020    101.357143\n",
       "TenneTTSO   2019    149.229466\n",
       "            2020    162.944436\n",
       "TransnetBW  2019     37.772366\n",
       "            2020     25.731053\n",
       "Name: 12:00:00, dtype: float64"
      ]
     },
     "execution_count": 725,
     "metadata": {},
     "output_type": "execute_result"
    }
   ],
   "source": [
    "noon"
   ]
  },
  {
   "cell_type": "code",
   "execution_count": 726,
   "metadata": {},
   "outputs": [
    {
     "data": {
      "image/png": "[encoded data removed]",
      "text/plain": [
       "<Figure size 432x288 with 1 Axes>"
      ]
     },
     "metadata": {
      "needs_background": "light"
     },
     "output_type": "display_data"
    }
   ],
   "source": [
    "midnight.sort_values().plot(kind='barh',xlabel=\" \",title=\"TW/hours by Company/Year @ Midnight\")\n",
    "plt.savefig('midnight')"
   ]
  },
  {
   "cell_type": "code",
   "execution_count": 727,
   "metadata": {},
   "outputs": [
    {
     "data": {
      "image/png": "[encoded data removed]",
      "text/plain": [
       "<Figure size 432x288 with 1 Axes>"
      ]
     },
     "metadata": {
      "needs_background": "light"
     },
     "output_type": "display_data"
    }
   ],
   "source": [
    "noon.sort_values().plot(kind='barh',xlabel=\" \",title=\"TW/hours by Company/Year @ noon\")\n",
    "plt.savefig('noon')"
   ]
  },
  {
   "cell_type": "markdown",
   "metadata": {},
   "source": [
    "### Combine the two bar graphs into a single graph that shares the x-axis. The top graph should be silver and the bottom should be gray. Save the file as ‘combined_bar_chart.png’"
   ]
  },
  {
   "cell_type": "code",
   "execution_count": 728,
   "metadata": {},
   "outputs": [
    {
     "data": {
      "image/png": "[encoded data removed]",
      "text/plain": [
       "<Figure size 864x576 with 2 Axes>"
      ]
     },
     "metadata": {
      "needs_background": "light"
     },
     "output_type": "display_data"
    }
   ],
   "source": [
    "fig = plt.figure(figsize=(12,8))\n",
    "ax1 = fig.add_subplot(211)\n",
    "ax1 = midnight.sort_values().plot.barh(color='silver', title=\"TW/hours by Company/Year @ noon\")\n",
    "ax2 = fig.add_subplot(212,sharex=ax1)\n",
    "ax2 = noon.sort_values().plot.barh(color='gray',title=\"TW/hours by Company/Year @ noon\")\n",
    "fig.savefig('combined_bar_chart.png')"
   ]
  },
  {
   "cell_type": "markdown",
   "metadata": {},
   "source": [
    "### Write a function that accepts the ungrouped dataframe, the company name, date, and a plotting color that generates an area graph for that particular company/day"
   ]
  },
  {
   "cell_type": "code",
   "execution_count": 729,
   "metadata": {},
   "outputs": [],
   "source": [
    "def daily_view(dataframe, company, date, color):\n",
    "    subdf = dataframe.query(\"Company == '\"+ company+\"' and Date == '\"+ date+\"'\")\n",
    "    subdf.drop(['Company','Date','year'],axis=1,inplace=True)\n",
    "    values = subdf.iloc[0]\n",
    "    values.plot.area(title='Power Production: '+company+'/'+date,\n",
    "                 ylabel='TW/h Generated',\n",
    "                 xlabel='Time of Day',\n",
    "                 color=color,\n",
    "                 figsize=(12,6))"
   ]
  },
  {
   "cell_type": "code",
   "execution_count": 730,
   "metadata": {},
   "outputs": [
    {
     "name": "stderr",
     "output_type": "stream",
     "text": [
      "C:\\Users\\Clayton\\anaconda3\\lib\\site-packages\\pandas\\core\\frame.py:4163: SettingWithCopyWarning: \n",
      "A value is trying to be set on a copy of a slice from a DataFrame\n",
      "\n",
      "See the caveats in the documentation: https://pandas.pydata.org/pandas-docs/stable/user_guide/indexing.html#returning-a-view-versus-a-copy\n",
      "  return super().drop(\n"
     ]
    },
    {
     "data": {
      "image/png": "[encoded data removed]",
      "text/plain": [
       "<Figure size 864x432 with 1 Axes>"
      ]
     },
     "metadata": {
      "needs_background": "light"
     },
     "output_type": "display_data"
    }
   ],
   "source": [
    "daily_view(df,'50Hertz','2019-08-23','purple')"
   ]
  },
  {
   "cell_type": "markdown",
   "metadata": {},
   "source": [
    "# BONUS"
   ]
  },
  {
   "cell_type": "code",
   "execution_count": null,
   "metadata": {
    "scrolled": true
   },
   "outputs": [],
   "source": []
  },
  {
   "cell_type": "markdown",
   "metadata": {},
   "source": [
    "# Part 2"
   ]
  },
  {
   "cell_type": "code",
   "execution_count": 731,
   "metadata": {},
   "outputs": [
    {
     "data": {
      "text/plain": [
       "['anagrams',\n",
       " 'anscombe',\n",
       " 'attention',\n",
       " 'brain_networks',\n",
       " 'car_crashes',\n",
       " 'diamonds',\n",
       " 'dots',\n",
       " 'exercise',\n",
       " 'flights',\n",
       " 'fmri',\n",
       " 'gammas',\n",
       " 'geyser',\n",
       " 'iris',\n",
       " 'mpg',\n",
       " 'penguins',\n",
       " 'planets',\n",
       " 'tips',\n",
       " 'titanic']"
      ]
     },
     "execution_count": 731,
     "metadata": {},
     "output_type": "execute_result"
    }
   ],
   "source": [
    "sns.get_dataset_names()"
   ]
  },
  {
   "cell_type": "markdown",
   "metadata": {},
   "source": [
    "### Line Chart"
   ]
  },
  {
   "cell_type": "markdown",
   "metadata": {},
   "source": [
    "Here is a linechart of the 'dots' dataset where it shows the firing rate as time increases. I only included align that was dots, T1 choice, and when the coherence is 0. Overall, you see that as time increases, so does the firing rate."
   ]
  },
  {
   "cell_type": "code",
   "execution_count": 732,
   "metadata": {},
   "outputs": [],
   "source": [
    "dots = sns.load_dataset('dots')"
   ]
  },
  {
   "cell_type": "code",
   "execution_count": 733,
   "metadata": {},
   "outputs": [],
   "source": [
    "dotsalign = dots.query(\"align == 'dots' and choice == 'T1' and coherence == 0\")\n",
    "dotsalign = dotsalign.sort_values(by='time')\n",
    "dotsalign.index=dotsalign.time"
   ]
  },
  {
   "cell_type": "code",
   "execution_count": 734,
   "metadata": {},
   "outputs": [
    {
     "data": {
      "text/plain": [
       "(-80.0, 720.0, 29.0, 59.0)"
      ]
     },
     "execution_count": 734,
     "metadata": {},
     "output_type": "execute_result"
    },
    {
     "data": {
      "image/png": "[encoded data removed]",
      "text/plain": [
       "<Figure size 864x432 with 1 Axes>"
      ]
     },
     "metadata": {
      "needs_background": "light"
     },
     "output_type": "display_data"
    }
   ],
   "source": [
    "fig=plt.figure(figsize=(12,6))\n",
    "plt.plot(dotsalign.firing_rate,color='purple')\n",
    "plt.title('Firing Rate Over Time')\n",
    "plt.ylabel('Firing Rate')\n",
    "plt.xlabel('Time')\n",
    "plt.axis([-80,720,29,59])\n"
   ]
  },
  {
   "cell_type": "markdown",
   "metadata": {},
   "source": [
    "### Box/Whisker plot\n",
    "Here is a Box/Whisker plot that shows how the quality of the diamonds relates to the price of it. I only showed diamonds that were of color 'D' and clarity of 'VS1'"
   ]
  },
  {
   "cell_type": "code",
   "execution_count": 735,
   "metadata": {},
   "outputs": [],
   "source": [
    "diamonds = sns.load_dataset('diamonds')\n",
    "diamonds_D = diamonds.query(\"color == 'D' and clarity == 'VS1'\")"
   ]
  },
  {
   "cell_type": "code",
   "execution_count": 736,
   "metadata": {},
   "outputs": [
    {
     "data": {
      "image/png": "[encoded data removed]",
      "text/plain": [
       "<Figure size 432x288 with 1 Axes>"
      ]
     },
     "metadata": {
      "needs_background": "light"
     },
     "output_type": "display_data"
    }
   ],
   "source": [
    "ax1 = diamonds_D.boxplot(column='price', by='cut', showfliers=False)\n",
    "ax1.set_title('')\n",
    "ax1.set_ylabel('Price')\n",
    "ax1.set_xlabel('Quality of Cut')\n",
    "ax1.grid(False)"
   ]
  },
  {
   "cell_type": "markdown",
   "metadata": {},
   "source": [
    "### Histograms and Kernel Density\n",
    "Here I made a Histogram and Kernel Density plot that shows the price and what the most common price of a diamond is. it shows that as the price goes up, that there is less of that priced diamond."
   ]
  },
  {
   "cell_type": "code",
   "execution_count": 737,
   "metadata": {},
   "outputs": [
    {
     "data": {
      "text/plain": [
       "Index(['carat', 'cut', 'color', 'clarity', 'depth', 'table', 'price', 'x', 'y',\n",
       "       'z'],\n",
       "      dtype='object')"
      ]
     },
     "execution_count": 737,
     "metadata": {},
     "output_type": "execute_result"
    }
   ],
   "source": [
    "diamonds.columns"
   ]
  },
  {
   "cell_type": "code",
   "execution_count": 738,
   "metadata": {},
   "outputs": [
    {
     "data": {
      "text/plain": [
       "<seaborn.axisgrid.FacetGrid at 0x230c09de6a0>"
      ]
     },
     "execution_count": 738,
     "metadata": {},
     "output_type": "execute_result"
    },
    {
     "data": {
      "image/png": "[encoded data removed]",
      "text/plain": [
       "<Figure size 360x360 with 1 Axes>"
      ]
     },
     "metadata": {
      "needs_background": "light"
     },
     "output_type": "display_data"
    }
   ],
   "source": [
    "sns.displot(diamonds.price,bins=25,color='red',kde=True)"
   ]
  },
  {
   "cell_type": "markdown",
   "metadata": {},
   "source": [
    "### Heatmap"
   ]
  },
  {
   "cell_type": "code",
   "execution_count": 739,
   "metadata": {},
   "outputs": [
    {
     "data": {
      "text/plain": [
       "['anagrams',\n",
       " 'anscombe',\n",
       " 'attention',\n",
       " 'brain_networks',\n",
       " 'car_crashes',\n",
       " 'diamonds',\n",
       " 'dots',\n",
       " 'exercise',\n",
       " 'flights',\n",
       " 'fmri',\n",
       " 'gammas',\n",
       " 'geyser',\n",
       " 'iris',\n",
       " 'mpg',\n",
       " 'penguins',\n",
       " 'planets',\n",
       " 'tips',\n",
       " 'titanic']"
      ]
     },
     "execution_count": 739,
     "metadata": {},
     "output_type": "execute_result"
    }
   ],
   "source": [
    "sns.get_dataset_names()"
   ]
  },
  {
   "cell_type": "code",
   "execution_count": 740,
   "metadata": {},
   "outputs": [
    {
     "data": {
      "text/html": [
       "<div>\n",
       "<style scoped>\n",
       "    .dataframe tbody tr th:only-of-type {\n",
       "        vertical-align: middle;\n",
       "    }\n",
       "\n",
       "    .dataframe tbody tr th {\n",
       "        vertical-align: top;\n",
       "    }\n",
       "\n",
       "    .dataframe thead th {\n",
       "        text-align: right;\n",
       "    }\n",
       "</style>\n",
       "<table border=\"1\" class=\"dataframe\">\n",
       "  <thead>\n",
       "    <tr style=\"text-align: right;\">\n",
       "      <th></th>\n",
       "      <th>Unnamed: 0</th>\n",
       "      <th>subject</th>\n",
       "      <th>attention</th>\n",
       "      <th>solutions</th>\n",
       "      <th>score</th>\n",
       "    </tr>\n",
       "  </thead>\n",
       "  <tbody>\n",
       "    <tr>\n",
       "      <th>0</th>\n",
       "      <td>0</td>\n",
       "      <td>1</td>\n",
       "      <td>divided</td>\n",
       "      <td>1</td>\n",
       "      <td>2.0</td>\n",
       "    </tr>\n",
       "    <tr>\n",
       "      <th>1</th>\n",
       "      <td>1</td>\n",
       "      <td>2</td>\n",
       "      <td>divided</td>\n",
       "      <td>1</td>\n",
       "      <td>3.0</td>\n",
       "    </tr>\n",
       "    <tr>\n",
       "      <th>2</th>\n",
       "      <td>2</td>\n",
       "      <td>3</td>\n",
       "      <td>divided</td>\n",
       "      <td>1</td>\n",
       "      <td>3.0</td>\n",
       "    </tr>\n",
       "    <tr>\n",
       "      <th>3</th>\n",
       "      <td>3</td>\n",
       "      <td>4</td>\n",
       "      <td>divided</td>\n",
       "      <td>1</td>\n",
       "      <td>5.0</td>\n",
       "    </tr>\n",
       "    <tr>\n",
       "      <th>4</th>\n",
       "      <td>4</td>\n",
       "      <td>5</td>\n",
       "      <td>divided</td>\n",
       "      <td>1</td>\n",
       "      <td>4.0</td>\n",
       "    </tr>\n",
       "    <tr>\n",
       "      <th>5</th>\n",
       "      <td>5</td>\n",
       "      <td>6</td>\n",
       "      <td>divided</td>\n",
       "      <td>1</td>\n",
       "      <td>5.0</td>\n",
       "    </tr>\n",
       "    <tr>\n",
       "      <th>6</th>\n",
       "      <td>6</td>\n",
       "      <td>7</td>\n",
       "      <td>divided</td>\n",
       "      <td>1</td>\n",
       "      <td>5.0</td>\n",
       "    </tr>\n",
       "    <tr>\n",
       "      <th>7</th>\n",
       "      <td>7</td>\n",
       "      <td>8</td>\n",
       "      <td>divided</td>\n",
       "      <td>1</td>\n",
       "      <td>5.0</td>\n",
       "    </tr>\n",
       "    <tr>\n",
       "      <th>8</th>\n",
       "      <td>8</td>\n",
       "      <td>9</td>\n",
       "      <td>divided</td>\n",
       "      <td>1</td>\n",
       "      <td>2.0</td>\n",
       "    </tr>\n",
       "    <tr>\n",
       "      <th>9</th>\n",
       "      <td>9</td>\n",
       "      <td>10</td>\n",
       "      <td>divided</td>\n",
       "      <td>1</td>\n",
       "      <td>6.0</td>\n",
       "    </tr>\n",
       "    <tr>\n",
       "      <th>10</th>\n",
       "      <td>10</td>\n",
       "      <td>11</td>\n",
       "      <td>focused</td>\n",
       "      <td>1</td>\n",
       "      <td>6.0</td>\n",
       "    </tr>\n",
       "    <tr>\n",
       "      <th>11</th>\n",
       "      <td>11</td>\n",
       "      <td>12</td>\n",
       "      <td>focused</td>\n",
       "      <td>1</td>\n",
       "      <td>8.0</td>\n",
       "    </tr>\n",
       "    <tr>\n",
       "      <th>12</th>\n",
       "      <td>12</td>\n",
       "      <td>13</td>\n",
       "      <td>focused</td>\n",
       "      <td>1</td>\n",
       "      <td>6.0</td>\n",
       "    </tr>\n",
       "    <tr>\n",
       "      <th>13</th>\n",
       "      <td>13</td>\n",
       "      <td>14</td>\n",
       "      <td>focused</td>\n",
       "      <td>1</td>\n",
       "      <td>8.0</td>\n",
       "    </tr>\n",
       "    <tr>\n",
       "      <th>14</th>\n",
       "      <td>14</td>\n",
       "      <td>15</td>\n",
       "      <td>focused</td>\n",
       "      <td>1</td>\n",
       "      <td>8.0</td>\n",
       "    </tr>\n",
       "    <tr>\n",
       "      <th>15</th>\n",
       "      <td>15</td>\n",
       "      <td>16</td>\n",
       "      <td>focused</td>\n",
       "      <td>1</td>\n",
       "      <td>6.0</td>\n",
       "    </tr>\n",
       "    <tr>\n",
       "      <th>16</th>\n",
       "      <td>16</td>\n",
       "      <td>17</td>\n",
       "      <td>focused</td>\n",
       "      <td>1</td>\n",
       "      <td>7.0</td>\n",
       "    </tr>\n",
       "    <tr>\n",
       "      <th>17</th>\n",
       "      <td>17</td>\n",
       "      <td>18</td>\n",
       "      <td>focused</td>\n",
       "      <td>1</td>\n",
       "      <td>7.0</td>\n",
       "    </tr>\n",
       "    <tr>\n",
       "      <th>18</th>\n",
       "      <td>18</td>\n",
       "      <td>19</td>\n",
       "      <td>focused</td>\n",
       "      <td>1</td>\n",
       "      <td>5.0</td>\n",
       "    </tr>\n",
       "    <tr>\n",
       "      <th>19</th>\n",
       "      <td>19</td>\n",
       "      <td>20</td>\n",
       "      <td>focused</td>\n",
       "      <td>1</td>\n",
       "      <td>6.0</td>\n",
       "    </tr>\n",
       "    <tr>\n",
       "      <th>20</th>\n",
       "      <td>20</td>\n",
       "      <td>1</td>\n",
       "      <td>divided</td>\n",
       "      <td>2</td>\n",
       "      <td>4.0</td>\n",
       "    </tr>\n",
       "    <tr>\n",
       "      <th>21</th>\n",
       "      <td>21</td>\n",
       "      <td>2</td>\n",
       "      <td>divided</td>\n",
       "      <td>2</td>\n",
       "      <td>4.0</td>\n",
       "    </tr>\n",
       "    <tr>\n",
       "      <th>22</th>\n",
       "      <td>22</td>\n",
       "      <td>3</td>\n",
       "      <td>divided</td>\n",
       "      <td>2</td>\n",
       "      <td>5.0</td>\n",
       "    </tr>\n",
       "    <tr>\n",
       "      <th>23</th>\n",
       "      <td>23</td>\n",
       "      <td>4</td>\n",
       "      <td>divided</td>\n",
       "      <td>2</td>\n",
       "      <td>7.0</td>\n",
       "    </tr>\n",
       "    <tr>\n",
       "      <th>24</th>\n",
       "      <td>24</td>\n",
       "      <td>5</td>\n",
       "      <td>divided</td>\n",
       "      <td>2</td>\n",
       "      <td>5.0</td>\n",
       "    </tr>\n",
       "    <tr>\n",
       "      <th>25</th>\n",
       "      <td>25</td>\n",
       "      <td>6</td>\n",
       "      <td>divided</td>\n",
       "      <td>2</td>\n",
       "      <td>5.0</td>\n",
       "    </tr>\n",
       "    <tr>\n",
       "      <th>26</th>\n",
       "      <td>26</td>\n",
       "      <td>7</td>\n",
       "      <td>divided</td>\n",
       "      <td>2</td>\n",
       "      <td>4.5</td>\n",
       "    </tr>\n",
       "    <tr>\n",
       "      <th>27</th>\n",
       "      <td>27</td>\n",
       "      <td>8</td>\n",
       "      <td>divided</td>\n",
       "      <td>2</td>\n",
       "      <td>7.0</td>\n",
       "    </tr>\n",
       "    <tr>\n",
       "      <th>28</th>\n",
       "      <td>28</td>\n",
       "      <td>9</td>\n",
       "      <td>divided</td>\n",
       "      <td>2</td>\n",
       "      <td>3.0</td>\n",
       "    </tr>\n",
       "    <tr>\n",
       "      <th>29</th>\n",
       "      <td>29</td>\n",
       "      <td>10</td>\n",
       "      <td>divided</td>\n",
       "      <td>2</td>\n",
       "      <td>5.0</td>\n",
       "    </tr>\n",
       "    <tr>\n",
       "      <th>30</th>\n",
       "      <td>30</td>\n",
       "      <td>11</td>\n",
       "      <td>focused</td>\n",
       "      <td>2</td>\n",
       "      <td>5.0</td>\n",
       "    </tr>\n",
       "    <tr>\n",
       "      <th>31</th>\n",
       "      <td>31</td>\n",
       "      <td>12</td>\n",
       "      <td>focused</td>\n",
       "      <td>2</td>\n",
       "      <td>9.0</td>\n",
       "    </tr>\n",
       "    <tr>\n",
       "      <th>32</th>\n",
       "      <td>32</td>\n",
       "      <td>13</td>\n",
       "      <td>focused</td>\n",
       "      <td>2</td>\n",
       "      <td>5.0</td>\n",
       "    </tr>\n",
       "    <tr>\n",
       "      <th>33</th>\n",
       "      <td>33</td>\n",
       "      <td>14</td>\n",
       "      <td>focused</td>\n",
       "      <td>2</td>\n",
       "      <td>8.0</td>\n",
       "    </tr>\n",
       "    <tr>\n",
       "      <th>34</th>\n",
       "      <td>34</td>\n",
       "      <td>15</td>\n",
       "      <td>focused</td>\n",
       "      <td>2</td>\n",
       "      <td>8.0</td>\n",
       "    </tr>\n",
       "    <tr>\n",
       "      <th>35</th>\n",
       "      <td>35</td>\n",
       "      <td>16</td>\n",
       "      <td>focused</td>\n",
       "      <td>2</td>\n",
       "      <td>8.0</td>\n",
       "    </tr>\n",
       "    <tr>\n",
       "      <th>36</th>\n",
       "      <td>36</td>\n",
       "      <td>17</td>\n",
       "      <td>focused</td>\n",
       "      <td>2</td>\n",
       "      <td>7.0</td>\n",
       "    </tr>\n",
       "    <tr>\n",
       "      <th>37</th>\n",
       "      <td>37</td>\n",
       "      <td>18</td>\n",
       "      <td>focused</td>\n",
       "      <td>2</td>\n",
       "      <td>8.0</td>\n",
       "    </tr>\n",
       "    <tr>\n",
       "      <th>38</th>\n",
       "      <td>38</td>\n",
       "      <td>19</td>\n",
       "      <td>focused</td>\n",
       "      <td>2</td>\n",
       "      <td>6.0</td>\n",
       "    </tr>\n",
       "    <tr>\n",
       "      <th>39</th>\n",
       "      <td>39</td>\n",
       "      <td>20</td>\n",
       "      <td>focused</td>\n",
       "      <td>2</td>\n",
       "      <td>6.0</td>\n",
       "    </tr>\n",
       "    <tr>\n",
       "      <th>40</th>\n",
       "      <td>40</td>\n",
       "      <td>1</td>\n",
       "      <td>divided</td>\n",
       "      <td>3</td>\n",
       "      <td>7.0</td>\n",
       "    </tr>\n",
       "    <tr>\n",
       "      <th>41</th>\n",
       "      <td>41</td>\n",
       "      <td>2</td>\n",
       "      <td>divided</td>\n",
       "      <td>3</td>\n",
       "      <td>5.0</td>\n",
       "    </tr>\n",
       "    <tr>\n",
       "      <th>42</th>\n",
       "      <td>42</td>\n",
       "      <td>3</td>\n",
       "      <td>divided</td>\n",
       "      <td>3</td>\n",
       "      <td>6.0</td>\n",
       "    </tr>\n",
       "    <tr>\n",
       "      <th>43</th>\n",
       "      <td>43</td>\n",
       "      <td>4</td>\n",
       "      <td>divided</td>\n",
       "      <td>3</td>\n",
       "      <td>5.0</td>\n",
       "    </tr>\n",
       "    <tr>\n",
       "      <th>44</th>\n",
       "      <td>44</td>\n",
       "      <td>5</td>\n",
       "      <td>divided</td>\n",
       "      <td>3</td>\n",
       "      <td>8.0</td>\n",
       "    </tr>\n",
       "    <tr>\n",
       "      <th>45</th>\n",
       "      <td>45</td>\n",
       "      <td>6</td>\n",
       "      <td>divided</td>\n",
       "      <td>3</td>\n",
       "      <td>6.0</td>\n",
       "    </tr>\n",
       "    <tr>\n",
       "      <th>46</th>\n",
       "      <td>46</td>\n",
       "      <td>7</td>\n",
       "      <td>divided</td>\n",
       "      <td>3</td>\n",
       "      <td>6.0</td>\n",
       "    </tr>\n",
       "    <tr>\n",
       "      <th>47</th>\n",
       "      <td>47</td>\n",
       "      <td>8</td>\n",
       "      <td>divided</td>\n",
       "      <td>3</td>\n",
       "      <td>8.0</td>\n",
       "    </tr>\n",
       "    <tr>\n",
       "      <th>48</th>\n",
       "      <td>48</td>\n",
       "      <td>9</td>\n",
       "      <td>divided</td>\n",
       "      <td>3</td>\n",
       "      <td>7.0</td>\n",
       "    </tr>\n",
       "    <tr>\n",
       "      <th>49</th>\n",
       "      <td>49</td>\n",
       "      <td>10</td>\n",
       "      <td>divided</td>\n",
       "      <td>3</td>\n",
       "      <td>6.0</td>\n",
       "    </tr>\n",
       "    <tr>\n",
       "      <th>50</th>\n",
       "      <td>50</td>\n",
       "      <td>11</td>\n",
       "      <td>focused</td>\n",
       "      <td>3</td>\n",
       "      <td>6.0</td>\n",
       "    </tr>\n",
       "    <tr>\n",
       "      <th>51</th>\n",
       "      <td>51</td>\n",
       "      <td>12</td>\n",
       "      <td>focused</td>\n",
       "      <td>3</td>\n",
       "      <td>8.0</td>\n",
       "    </tr>\n",
       "    <tr>\n",
       "      <th>52</th>\n",
       "      <td>52</td>\n",
       "      <td>13</td>\n",
       "      <td>focused</td>\n",
       "      <td>3</td>\n",
       "      <td>9.0</td>\n",
       "    </tr>\n",
       "    <tr>\n",
       "      <th>53</th>\n",
       "      <td>53</td>\n",
       "      <td>14</td>\n",
       "      <td>focused</td>\n",
       "      <td>3</td>\n",
       "      <td>7.0</td>\n",
       "    </tr>\n",
       "    <tr>\n",
       "      <th>54</th>\n",
       "      <td>54</td>\n",
       "      <td>15</td>\n",
       "      <td>focused</td>\n",
       "      <td>3</td>\n",
       "      <td>7.0</td>\n",
       "    </tr>\n",
       "    <tr>\n",
       "      <th>55</th>\n",
       "      <td>55</td>\n",
       "      <td>16</td>\n",
       "      <td>focused</td>\n",
       "      <td>3</td>\n",
       "      <td>7.0</td>\n",
       "    </tr>\n",
       "    <tr>\n",
       "      <th>56</th>\n",
       "      <td>56</td>\n",
       "      <td>17</td>\n",
       "      <td>focused</td>\n",
       "      <td>3</td>\n",
       "      <td>6.0</td>\n",
       "    </tr>\n",
       "    <tr>\n",
       "      <th>57</th>\n",
       "      <td>57</td>\n",
       "      <td>18</td>\n",
       "      <td>focused</td>\n",
       "      <td>3</td>\n",
       "      <td>6.0</td>\n",
       "    </tr>\n",
       "    <tr>\n",
       "      <th>58</th>\n",
       "      <td>58</td>\n",
       "      <td>19</td>\n",
       "      <td>focused</td>\n",
       "      <td>3</td>\n",
       "      <td>6.0</td>\n",
       "    </tr>\n",
       "    <tr>\n",
       "      <th>59</th>\n",
       "      <td>59</td>\n",
       "      <td>20</td>\n",
       "      <td>focused</td>\n",
       "      <td>3</td>\n",
       "      <td>5.0</td>\n",
       "    </tr>\n",
       "  </tbody>\n",
       "</table>\n",
       "</div>"
      ],
      "text/plain": [
       "    Unnamed: 0  subject attention  solutions  score\n",
       "0            0        1   divided          1    2.0\n",
       "1            1        2   divided          1    3.0\n",
       "2            2        3   divided          1    3.0\n",
       "3            3        4   divided          1    5.0\n",
       "4            4        5   divided          1    4.0\n",
       "5            5        6   divided          1    5.0\n",
       "6            6        7   divided          1    5.0\n",
       "7            7        8   divided          1    5.0\n",
       "8            8        9   divided          1    2.0\n",
       "9            9       10   divided          1    6.0\n",
       "10          10       11   focused          1    6.0\n",
       "11          11       12   focused          1    8.0\n",
       "12          12       13   focused          1    6.0\n",
       "13          13       14   focused          1    8.0\n",
       "14          14       15   focused          1    8.0\n",
       "15          15       16   focused          1    6.0\n",
       "16          16       17   focused          1    7.0\n",
       "17          17       18   focused          1    7.0\n",
       "18          18       19   focused          1    5.0\n",
       "19          19       20   focused          1    6.0\n",
       "20          20        1   divided          2    4.0\n",
       "21          21        2   divided          2    4.0\n",
       "22          22        3   divided          2    5.0\n",
       "23          23        4   divided          2    7.0\n",
       "24          24        5   divided          2    5.0\n",
       "25          25        6   divided          2    5.0\n",
       "26          26        7   divided          2    4.5\n",
       "27          27        8   divided          2    7.0\n",
       "28          28        9   divided          2    3.0\n",
       "29          29       10   divided          2    5.0\n",
       "30          30       11   focused          2    5.0\n",
       "31          31       12   focused          2    9.0\n",
       "32          32       13   focused          2    5.0\n",
       "33          33       14   focused          2    8.0\n",
       "34          34       15   focused          2    8.0\n",
       "35          35       16   focused          2    8.0\n",
       "36          36       17   focused          2    7.0\n",
       "37          37       18   focused          2    8.0\n",
       "38          38       19   focused          2    6.0\n",
       "39          39       20   focused          2    6.0\n",
       "40          40        1   divided          3    7.0\n",
       "41          41        2   divided          3    5.0\n",
       "42          42        3   divided          3    6.0\n",
       "43          43        4   divided          3    5.0\n",
       "44          44        5   divided          3    8.0\n",
       "45          45        6   divided          3    6.0\n",
       "46          46        7   divided          3    6.0\n",
       "47          47        8   divided          3    8.0\n",
       "48          48        9   divided          3    7.0\n",
       "49          49       10   divided          3    6.0\n",
       "50          50       11   focused          3    6.0\n",
       "51          51       12   focused          3    8.0\n",
       "52          52       13   focused          3    9.0\n",
       "53          53       14   focused          3    7.0\n",
       "54          54       15   focused          3    7.0\n",
       "55          55       16   focused          3    7.0\n",
       "56          56       17   focused          3    6.0\n",
       "57          57       18   focused          3    6.0\n",
       "58          58       19   focused          3    6.0\n",
       "59          59       20   focused          3    5.0"
      ]
     },
     "execution_count": 740,
     "metadata": {},
     "output_type": "execute_result"
    }
   ],
   "source": [
    "heatmap = sns.load_dataset('attention')\n",
    "heatmap"
   ]
  },
  {
   "cell_type": "code",
   "execution_count": 741,
   "metadata": {},
   "outputs": [],
   "source": [
    "heatmap = heatmap.pivot('subject','solutions','score')"
   ]
  },
  {
   "cell_type": "code",
   "execution_count": 742,
   "metadata": {},
   "outputs": [
    {
     "data": {
      "text/html": [
       "<div>\n",
       "<style scoped>\n",
       "    .dataframe tbody tr th:only-of-type {\n",
       "        vertical-align: middle;\n",
       "    }\n",
       "\n",
       "    .dataframe tbody tr th {\n",
       "        vertical-align: top;\n",
       "    }\n",
       "\n",
       "    .dataframe thead th {\n",
       "        text-align: right;\n",
       "    }\n",
       "</style>\n",
       "<table border=\"1\" class=\"dataframe\">\n",
       "  <thead>\n",
       "    <tr style=\"text-align: right;\">\n",
       "      <th>solutions</th>\n",
       "      <th>1</th>\n",
       "      <th>2</th>\n",
       "      <th>3</th>\n",
       "    </tr>\n",
       "    <tr>\n",
       "      <th>subject</th>\n",
       "      <th></th>\n",
       "      <th></th>\n",
       "      <th></th>\n",
       "    </tr>\n",
       "  </thead>\n",
       "  <tbody>\n",
       "    <tr>\n",
       "      <th>1</th>\n",
       "      <td>2.0</td>\n",
       "      <td>4.0</td>\n",
       "      <td>7.0</td>\n",
       "    </tr>\n",
       "    <tr>\n",
       "      <th>2</th>\n",
       "      <td>3.0</td>\n",
       "      <td>4.0</td>\n",
       "      <td>5.0</td>\n",
       "    </tr>\n",
       "    <tr>\n",
       "      <th>3</th>\n",
       "      <td>3.0</td>\n",
       "      <td>5.0</td>\n",
       "      <td>6.0</td>\n",
       "    </tr>\n",
       "    <tr>\n",
       "      <th>4</th>\n",
       "      <td>5.0</td>\n",
       "      <td>7.0</td>\n",
       "      <td>5.0</td>\n",
       "    </tr>\n",
       "    <tr>\n",
       "      <th>5</th>\n",
       "      <td>4.0</td>\n",
       "      <td>5.0</td>\n",
       "      <td>8.0</td>\n",
       "    </tr>\n",
       "    <tr>\n",
       "      <th>6</th>\n",
       "      <td>5.0</td>\n",
       "      <td>5.0</td>\n",
       "      <td>6.0</td>\n",
       "    </tr>\n",
       "    <tr>\n",
       "      <th>7</th>\n",
       "      <td>5.0</td>\n",
       "      <td>4.5</td>\n",
       "      <td>6.0</td>\n",
       "    </tr>\n",
       "    <tr>\n",
       "      <th>8</th>\n",
       "      <td>5.0</td>\n",
       "      <td>7.0</td>\n",
       "      <td>8.0</td>\n",
       "    </tr>\n",
       "    <tr>\n",
       "      <th>9</th>\n",
       "      <td>2.0</td>\n",
       "      <td>3.0</td>\n",
       "      <td>7.0</td>\n",
       "    </tr>\n",
       "    <tr>\n",
       "      <th>10</th>\n",
       "      <td>6.0</td>\n",
       "      <td>5.0</td>\n",
       "      <td>6.0</td>\n",
       "    </tr>\n",
       "    <tr>\n",
       "      <th>11</th>\n",
       "      <td>6.0</td>\n",
       "      <td>5.0</td>\n",
       "      <td>6.0</td>\n",
       "    </tr>\n",
       "    <tr>\n",
       "      <th>12</th>\n",
       "      <td>8.0</td>\n",
       "      <td>9.0</td>\n",
       "      <td>8.0</td>\n",
       "    </tr>\n",
       "    <tr>\n",
       "      <th>13</th>\n",
       "      <td>6.0</td>\n",
       "      <td>5.0</td>\n",
       "      <td>9.0</td>\n",
       "    </tr>\n",
       "    <tr>\n",
       "      <th>14</th>\n",
       "      <td>8.0</td>\n",
       "      <td>8.0</td>\n",
       "      <td>7.0</td>\n",
       "    </tr>\n",
       "    <tr>\n",
       "      <th>15</th>\n",
       "      <td>8.0</td>\n",
       "      <td>8.0</td>\n",
       "      <td>7.0</td>\n",
       "    </tr>\n",
       "    <tr>\n",
       "      <th>16</th>\n",
       "      <td>6.0</td>\n",
       "      <td>8.0</td>\n",
       "      <td>7.0</td>\n",
       "    </tr>\n",
       "    <tr>\n",
       "      <th>17</th>\n",
       "      <td>7.0</td>\n",
       "      <td>7.0</td>\n",
       "      <td>6.0</td>\n",
       "    </tr>\n",
       "    <tr>\n",
       "      <th>18</th>\n",
       "      <td>7.0</td>\n",
       "      <td>8.0</td>\n",
       "      <td>6.0</td>\n",
       "    </tr>\n",
       "    <tr>\n",
       "      <th>19</th>\n",
       "      <td>5.0</td>\n",
       "      <td>6.0</td>\n",
       "      <td>6.0</td>\n",
       "    </tr>\n",
       "    <tr>\n",
       "      <th>20</th>\n",
       "      <td>6.0</td>\n",
       "      <td>6.0</td>\n",
       "      <td>5.0</td>\n",
       "    </tr>\n",
       "  </tbody>\n",
       "</table>\n",
       "</div>"
      ],
      "text/plain": [
       "solutions    1    2    3\n",
       "subject                 \n",
       "1          2.0  4.0  7.0\n",
       "2          3.0  4.0  5.0\n",
       "3          3.0  5.0  6.0\n",
       "4          5.0  7.0  5.0\n",
       "5          4.0  5.0  8.0\n",
       "6          5.0  5.0  6.0\n",
       "7          5.0  4.5  6.0\n",
       "8          5.0  7.0  8.0\n",
       "9          2.0  3.0  7.0\n",
       "10         6.0  5.0  6.0\n",
       "11         6.0  5.0  6.0\n",
       "12         8.0  9.0  8.0\n",
       "13         6.0  5.0  9.0\n",
       "14         8.0  8.0  7.0\n",
       "15         8.0  8.0  7.0\n",
       "16         6.0  8.0  7.0\n",
       "17         7.0  7.0  6.0\n",
       "18         7.0  8.0  6.0\n",
       "19         5.0  6.0  6.0\n",
       "20         6.0  6.0  5.0"
      ]
     },
     "execution_count": 742,
     "metadata": {},
     "output_type": "execute_result"
    }
   ],
   "source": [
    "heatmap"
   ]
  },
  {
   "cell_type": "code",
   "execution_count": 743,
   "metadata": {},
   "outputs": [
    {
     "data": {
      "text/plain": [
       "<AxesSubplot:xlabel='solutions', ylabel='subject'>"
      ]
     },
     "execution_count": 743,
     "metadata": {},
     "output_type": "execute_result"
    },
    {
     "data": {
      "image/png": "[encoded data removed]",
      "text/plain": [
       "<Figure size 432x288 with 2 Axes>"
      ]
     },
     "metadata": {
      "needs_background": "light"
     },
     "output_type": "display_data"
    }
   ],
   "source": [
    "sns.heatmap(heatmap)"
   ]
  },
  {
   "cell_type": "markdown",
   "metadata": {},
   "source": [
    "### Seaborn Pair Plot"
   ]
  },
  {
   "cell_type": "code",
   "execution_count": 744,
   "metadata": {},
   "outputs": [
    {
     "data": {
      "text/plain": [
       "<seaborn.axisgrid.PairGrid at 0x230c073e880>"
      ]
     },
     "execution_count": 744,
     "metadata": {},
     "output_type": "execute_result"
    },
    {
     "data": {
      "image/png": "[encoded data removed]",
      "text/plain": [
       "<Figure size 447.5x360 with 6 Axes>"
      ]
     },
     "metadata": {
      "needs_background": "light"
     },
     "output_type": "display_data"
    }
   ],
   "source": [
    "sns.pairplot(diamonds_D[['price','carat','cut']],hue='cut')"
   ]
  },
  {
   "cell_type": "code",
   "execution_count": null,
   "metadata": {},
   "outputs": [],
   "source": []
  }
 ],
 "metadata": {
  "kernelspec": {
   "display_name": "Python 3",
   "language": "python",
   "name": "python3"
  },
  "language_info": {
   "codemirror_mode": {
    "name": "ipython",
    "version": 3
   },
   "file_extension": ".py",
   "mimetype": "text/x-python",
   "name": "python",
   "nbconvert_exporter": "python",
   "pygments_lexer": "ipython3",
   "version": "3.8.5"
  }
 },
 "nbformat": 4,
 "nbformat_minor": 4
}
